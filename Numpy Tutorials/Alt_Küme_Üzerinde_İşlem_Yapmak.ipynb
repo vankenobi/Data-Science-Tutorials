{
 "cells": [
  {
   "cell_type": "markdown",
   "metadata": {},
   "source": [
    "#### Alt Küme Üzerinde İşlem Yapmak"
   ]
  },
  {
   "cell_type": "code",
   "execution_count": 1,
   "metadata": {},
   "outputs": [],
   "source": [
    "import numpy as np"
   ]
  },
  {
   "cell_type": "code",
   "execution_count": 2,
   "metadata": {},
   "outputs": [
    {
     "data": {
      "text/plain": [
       "array([[22, 11,  7,  4, 26],\n",
       "       [22, 10, 29, 10, 13],\n",
       "       [18,  9,  3, 13,  0],\n",
       "       [ 9,  8, 10,  3,  5],\n",
       "       [ 0, 26, 10, 29, 27]])"
      ]
     },
     "execution_count": 2,
     "metadata": {},
     "output_type": "execute_result"
    }
   ],
   "source": [
    "m = np.random.randint(0,30,size=(5,5))\n",
    "m"
   ]
  },
  {
   "cell_type": "code",
   "execution_count": 4,
   "metadata": {},
   "outputs": [
    {
     "data": {
      "text/plain": [
       "array([[11,  7,  4],\n",
       "       [10, 29, 10],\n",
       "       [ 9,  3, 13],\n",
       "       [ 8, 10,  3],\n",
       "       [26, 10, 29]])"
      ]
     },
     "execution_count": 4,
     "metadata": {},
     "output_type": "execute_result"
    }
   ],
   "source": [
    "sub_m = m[:,1:4]\n",
    "sub_m"
   ]
  },
  {
   "cell_type": "code",
   "execution_count": 8,
   "metadata": {},
   "outputs": [
    {
     "data": {
      "text/plain": [
       "array([[99999,     7,     4],\n",
       "       [   10,    29,    10],\n",
       "       [    9,     3,    13],\n",
       "       [    8,    10,     3],\n",
       "       [   26,    10,    29]])"
      ]
     },
     "execution_count": 8,
     "metadata": {},
     "output_type": "execute_result"
    }
   ],
   "source": [
    "sub_m[0,0] = 99999\n",
    "sub_m"
   ]
  },
  {
   "cell_type": "code",
   "execution_count": 9,
   "metadata": {},
   "outputs": [
    {
     "data": {
      "text/plain": [
       "array([[   22, 99999,     7,     4,    26],\n",
       "       [   22,    10,    29,    10,    13],\n",
       "       [   18,     9,     3,    13,     0],\n",
       "       [    9,     8,    10,     3,     5],\n",
       "       [    0,    26,    10,    29,    27]])"
      ]
     },
     "execution_count": 9,
     "metadata": {},
     "output_type": "execute_result"
    }
   ],
   "source": [
    "m"
   ]
  },
  {
   "cell_type": "markdown",
   "metadata": {},
   "source": [
    "> Bir matrisin alt kümesi üzerinde bir değişiklik yaptığımızda bunun sadece alt küme üzerinde olmasını istiyorsak copy() metodunu kullanarak oluşturulan alt kümeyi ana kümeden bağımsız hale getiririz.\n"
   ]
  },
  {
   "cell_type": "code",
   "execution_count": 12,
   "metadata": {},
   "outputs": [
    {
     "data": {
      "text/plain": [
       "array([[14,  4,  1, 49, 40,  1],\n",
       "       [33, 69, 79, 59, 30, 69],\n",
       "       [46, 31, 50, 47, 78, 15],\n",
       "       [62, 20, 22, 58, 54,  5],\n",
       "       [73, 67,  5, 34, 50, 39],\n",
       "       [23, 65, 55, 30, 31, 55]])"
      ]
     },
     "execution_count": 12,
     "metadata": {},
     "output_type": "execute_result"
    }
   ],
   "source": [
    "n = np.random.randint(0,80,size=(6,6))\n",
    "n"
   ]
  },
  {
   "cell_type": "code",
   "execution_count": 17,
   "metadata": {},
   "outputs": [
    {
     "data": {
      "text/plain": [
       "array([[ 4,  1, 49],\n",
       "       [69, 79, 59],\n",
       "       [31, 50, 47],\n",
       "       [20, 22, 58],\n",
       "       [67,  5, 34],\n",
       "       [65, 55, 30]])"
      ]
     },
     "execution_count": 17,
     "metadata": {},
     "output_type": "execute_result"
    }
   ],
   "source": [
    "sub_b = n[:,1:4].copy() # copy metodu ile n matrisinden bağımsız bir alt küme oluşturduk\n",
    "sub_b"
   ]
  },
  {
   "cell_type": "code",
   "execution_count": 15,
   "metadata": {},
   "outputs": [
    {
     "data": {
      "text/plain": [
       "array([[588888,      1,     49],\n",
       "       [    69,     79,     59],\n",
       "       [    31,     50,     47],\n",
       "       [    20,     22,     58],\n",
       "       [    67,      5,     34],\n",
       "       [    65,     55,     30]])"
      ]
     },
     "execution_count": 15,
     "metadata": {},
     "output_type": "execute_result"
    }
   ],
   "source": [
    "sub_b[0,0] = 588888\n",
    "sub_b"
   ]
  },
  {
   "cell_type": "code",
   "execution_count": 16,
   "metadata": {},
   "outputs": [
    {
     "data": {
      "text/plain": [
       "array([[14,  4,  1, 49, 40,  1],\n",
       "       [33, 69, 79, 59, 30, 69],\n",
       "       [46, 31, 50, 47, 78, 15],\n",
       "       [62, 20, 22, 58, 54,  5],\n",
       "       [73, 67,  5, 34, 50, 39],\n",
       "       [23, 65, 55, 30, 31, 55]])"
      ]
     },
     "execution_count": 16,
     "metadata": {},
     "output_type": "execute_result"
    }
   ],
   "source": [
    "n"
   ]
  }
 ],
 "metadata": {
  "interpreter": {
   "hash": "4ce0e62306dd6a5716965d4519ada776f947e6dfc145b604b11307c10277ef29"
  },
  "kernelspec": {
   "display_name": "Python 3.8.0 64-bit",
   "language": "python",
   "name": "python3"
  },
  "language_info": {
   "codemirror_mode": {
    "name": "ipython",
    "version": 3
   },
   "file_extension": ".py",
   "mimetype": "text/x-python",
   "name": "python",
   "nbconvert_exporter": "python",
   "pygments_lexer": "ipython3",
   "version": "3.8.0"
  },
  "orig_nbformat": 4
 },
 "nbformat": 4,
 "nbformat_minor": 2
}
