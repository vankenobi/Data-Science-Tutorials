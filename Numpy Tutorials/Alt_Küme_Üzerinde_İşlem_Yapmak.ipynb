{
 "cells": [
  {
   "cell_type": "markdown",
   "metadata": {},
   "source": [
    "#### Alt Küme Üzerinde İşlem Yapmak"
   ]
  },
  {
   "cell_type": "code",
   "execution_count": 1,
   "metadata": {},
   "outputs": [],
   "source": [
    "import numpy as np"
   ]
  },
  {
   "cell_type": "code",
   "execution_count": 2,
   "metadata": {},
   "outputs": [
    {
     "data": {
      "text/plain": [
       "array([[ 8, 24, 17, 12, 17],\n",
       "       [15, 21, 20, 10, 15],\n",
       "       [ 7,  8, 24, 15, 10],\n",
       "       [ 9, 19,  0,  7, 27],\n",
       "       [11, 18,  7, 28, 15]])"
      ]
     },
     "execution_count": 2,
     "metadata": {},
     "output_type": "execute_result"
    }
   ],
   "source": [
    "m = np.random.randint(0,30,size=(5,5))\n",
    "m"
   ]
  },
  {
   "cell_type": "code",
   "execution_count": 3,
   "metadata": {},
   "outputs": [
    {
     "data": {
      "text/plain": [
       "array([[24, 17, 12],\n",
       "       [21, 20, 10],\n",
       "       [ 8, 24, 15],\n",
       "       [19,  0,  7],\n",
       "       [18,  7, 28]])"
      ]
     },
     "execution_count": 3,
     "metadata": {},
     "output_type": "execute_result"
    }
   ],
   "source": [
    "sub_m = m[:,1:4]\n",
    "sub_m"
   ]
  },
  {
   "cell_type": "code",
   "execution_count": 4,
   "metadata": {},
   "outputs": [
    {
     "data": {
      "text/plain": [
       "array([[99999,    17,    12],\n",
       "       [   21,    20,    10],\n",
       "       [    8,    24,    15],\n",
       "       [   19,     0,     7],\n",
       "       [   18,     7,    28]])"
      ]
     },
     "execution_count": 4,
     "metadata": {},
     "output_type": "execute_result"
    }
   ],
   "source": [
    "sub_m[0,0] = 99999\n",
    "sub_m"
   ]
  },
  {
   "cell_type": "code",
   "execution_count": 5,
   "metadata": {},
   "outputs": [
    {
     "data": {
      "text/plain": [
       "array([[    8, 99999,    17,    12,    17],\n",
       "       [   15,    21,    20,    10,    15],\n",
       "       [    7,     8,    24,    15,    10],\n",
       "       [    9,    19,     0,     7,    27],\n",
       "       [   11,    18,     7,    28,    15]])"
      ]
     },
     "execution_count": 5,
     "metadata": {},
     "output_type": "execute_result"
    }
   ],
   "source": [
    "m"
   ]
  },
  {
   "cell_type": "markdown",
   "metadata": {},
   "source": [
    "> Bir matrisin alt kümesi üzerinde bir değişiklik yaptığımızda bunun sadece alt küme üzerinde olmasını istiyorsak copy() metodunu kullanarak oluşturulan alt kümeyi ana kümeden bağımsız hale getiririz.\n"
   ]
  },
  {
   "cell_type": "code",
   "execution_count": 7,
   "metadata": {},
   "outputs": [
    {
     "data": {
      "text/plain": [
       "array([[42, 43, 37, 13, 69,  8],\n",
       "       [55, 41, 48, 17, 40, 16],\n",
       "       [61, 75, 32, 45, 42, 36],\n",
       "       [19, 13, 27, 21, 24, 55],\n",
       "       [11, 19, 59, 60, 69, 64],\n",
       "       [66, 58, 77, 71, 78,  6]])"
      ]
     },
     "execution_count": 7,
     "metadata": {},
     "output_type": "execute_result"
    }
   ],
   "source": [
    "n = np.random.randint(0,80,size=(6,6))\n",
    "n"
   ]
  },
  {
   "cell_type": "code",
   "execution_count": 8,
   "metadata": {},
   "outputs": [
    {
     "data": {
      "text/plain": [
       "array([[43, 37, 13],\n",
       "       [41, 48, 17],\n",
       "       [75, 32, 45],\n",
       "       [13, 27, 21],\n",
       "       [19, 59, 60],\n",
       "       [58, 77, 71]])"
      ]
     },
     "execution_count": 8,
     "metadata": {},
     "output_type": "execute_result"
    }
   ],
   "source": [
    "sub_b = n[:,1:4].copy() # copy metodu ile n matrisinden bağımsız bir alt küme oluşturduk\n",
    "sub_b"
   ]
  },
  {
   "cell_type": "code",
   "execution_count": 10,
   "metadata": {},
   "outputs": [
    {
     "data": {
      "text/plain": [
       "array([[588888,     37,     13],\n",
       "       [    41,     48,     17],\n",
       "       [    75,     32,     45],\n",
       "       [    13,     27,     21],\n",
       "       [    19,     59,     60],\n",
       "       [    58,     77,     71]])"
      ]
     },
     "execution_count": 10,
     "metadata": {},
     "output_type": "execute_result"
    }
   ],
   "source": [
    "sub_b[0,0] = 588888\n",
    "sub_b"
   ]
  },
  {
   "cell_type": "code",
   "execution_count": 11,
   "metadata": {},
   "outputs": [
    {
     "data": {
      "text/plain": [
       "array([[42, 43, 37, 13, 69,  8],\n",
       "       [55, 41, 48, 17, 40, 16],\n",
       "       [61, 75, 32, 45, 42, 36],\n",
       "       [19, 13, 27, 21, 24, 55],\n",
       "       [11, 19, 59, 60, 69, 64],\n",
       "       [66, 58, 77, 71, 78,  6]])"
      ]
     },
     "execution_count": 11,
     "metadata": {},
     "output_type": "execute_result"
    }
   ],
   "source": [
    "n"
   ]
  }
 ],
 "metadata": {
  "interpreter": {
   "hash": "4ce0e62306dd6a5716965d4519ada776f947e6dfc145b604b11307c10277ef29"
  },
  "kernelspec": {
   "display_name": "Python 3.8.0 64-bit",
   "language": "python",
   "name": "python3"
  },
  "language_info": {
   "codemirror_mode": {
    "name": "ipython",
    "version": 3
   },
   "file_extension": ".py",
   "mimetype": "text/x-python",
   "name": "python",
   "nbconvert_exporter": "python",
   "pygments_lexer": "ipython3",
   "version": "3.8.0"
  },
  "orig_nbformat": 4
 },
 "nbformat": 4,
 "nbformat_minor": 2
}
